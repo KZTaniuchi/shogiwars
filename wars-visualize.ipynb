{
 "metadata": {
  "name": ""
 },
 "nbformat": 3,
 "nbformat_minor": 0,
 "worksheets": [
  {
   "cells": [
    {
     "cell_type": "code",
     "collapsed": false,
     "input": [
      "import pymongo\n",
      "from collections import Counter\n",
      "\n",
      "connection = pymongo.Connection('localhost',27017)\n",
      "db = connection.warskifu\n",
      "col = db.kifu"
     ],
     "language": "python",
     "metadata": {},
     "outputs": [],
     "prompt_number": 59
    },
    {
     "cell_type": "markdown",
     "metadata": {},
     "source": [
      "\u591a\u304f\u5bfe\u5c40\u3057\u3066\u3044\u308b\u4eba\u30e9\u30f3\u30ad\u30f3\u30b0\u3092\u51fa\u3057\u3066\u307f\u308b"
     ]
    },
    {
     "cell_type": "code",
     "collapsed": false,
     "input": [
      "results = []\n",
      "for data in col.find():\n",
      "    results.append(data['user0'])\n",
      "    results.append(data['user1'])\n",
      "\n",
      "counter = Counter(results)\n",
      "id_list = []\n",
      "for _id, count in counter.most_common():\n",
      "    if count > 20:\n",
      "        print _id, count"
     ],
     "language": "python",
     "metadata": {},
     "outputs": [
      {
       "output_type": "stream",
       "stream": "stdout",
       "text": [
        "1_tsutsukana 171\n",
        "miya_with_r 107\n",
        "kumanbou 101\n",
        "kuropete 97\n",
        "junpe_ 81\n",
        "jun419 63\n",
        "ClubRosaUmeda4F 57\n",
        "nanacha923 41\n",
        "CasvalRemDeikun 33\n",
        "24nokamiRenana 25\n",
        "Pona3 24\n",
        "oniku1129oishii 21\n"
       ]
      }
     ],
     "prompt_number": 80
    },
    {
     "cell_type": "code",
     "collapsed": false,
     "input": [
      "%matplotlib inline\n",
      "import matplotlib.pyplot as plt\n",
      "\n",
      "dates = [d['datetime'] for d in col.find()]\n",
      "hist = plt.hist([t.hour for t in dates], bins=range(25))\n",
      "plt.xlim(0,24)\n",
      "plt.show()"
     ],
     "language": "python",
     "metadata": {},
     "outputs": [
      {
       "metadata": {},
       "output_type": "display_data",
       "png": "[encoded data removed]",
       "text": [
        "<matplotlib.figure.Figure at 0x7f0125a0b4d0>"
       ]
      }
     ],
     "prompt_number": 87
    },
    {
     "cell_type": "markdown",
     "metadata": {},
     "source": [
      "\u307e\u305a\uff0c17\u6642\u304b\u30892\u6642\u304c\u76db\u308a\u4e0a\u304c\u3063\u3066\u3044\u308b\u70b9\u304b\u3089\u3057\u3066\uff0c\u307e\u3063\u3068\u3046\u306a\u793e\u4f1a\u4eba/\u5b66\u751f\u304c\u591a\u3044\u306e\u304b\u306a\u3068\u3044\u3046\u5370\u8c61\u3092\u53d7\u3051\u308b\uff0e\uff08\u3082\u3061\u308d\u3093\uff0c\u305d\u306e\u6642\u9593\u306b\u30de\u30c3\u30c1\u30f3\u30b0\u3057\u3084\u3059\u3044\u3068\u304b\u3044\u3046\u8907\u96d1\u306a\u4e8b\u60c5\u304c\u3042\u308b\u304b\u3082\u3057\u308c\u306a\u3044\u304c\uff0e\uff0910\u6642\u306f\u3082\u3063\u3068\u51f9\u3093\u3067\u3044\u308b\u307b\u3046\u304c\u81ea\u7136\u3060\u3068\u601d\u3046\uff0e*\u7d4c\u9a13\u4e0a\uff0c\u663c\u9593\u306b\u5c06\u68cb\u30a6\u30a9\u30fc\u30ba\u3092\u30d7\u30ec\u30a4\u3059\u308b\u3068\u3088\u304f\u308f\u304b\u3089\u306a\u3044\u5c06\u68cb\u30d7\u30ed\u30b0\u30e9\u30e0\u3068\u5bfe\u6226\u3055\u305b\u3089\u308c\u308b\u3053\u3068\u304c\u3088\u304f\u3042\u3063\u305f\u3057\uff0c\u3053\u306e\u6642\u9593\u306f\u4eba\u304c\u3042\u307e\u308a\u96c6\u307e\u3089\u306a\u3044\u3053\u3068\u304c\u60f3\u5b9a\u3055\u308c\u3066\u3044\u305d\u3046\u306a\u6c17\u304c\u3059\u308b\uff0e*\n",
      "\n",
      "22\u6642\u306e\u5bfe\u5c40\u6570\u3060\u3051\u98db\u3073\u629c\u3051\u3066\u3044\u308b\u306e\u306f\u306a\u305c\u304b\u3088\u304f\u308f\u304b\u3089\u306a\u3044\uff0e"
     ]
    },
    {
     "cell_type": "code",
     "collapsed": false,
     "input": [
      "results_u = list(set(results))\n",
      "print len(results_u)"
     ],
     "language": "python",
     "metadata": {},
     "outputs": [
      {
       "output_type": "stream",
       "stream": "stdout",
       "text": [
        "359\n"
       ]
      }
     ],
     "prompt_number": 86
    },
    {
     "cell_type": "code",
     "collapsed": false,
     "input": [],
     "language": "python",
     "metadata": {},
     "outputs": []
    }
   ],
   "metadata": {}
  }
 ]
}