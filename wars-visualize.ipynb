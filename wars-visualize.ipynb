{
 "metadata": {
  "name": ""
 },
 "nbformat": 3,
 "nbformat_minor": 0,
 "worksheets": [
  {
   "cells": [
    {
     "cell_type": "code",
     "collapsed": false,
     "input": [
      "import pymongo\n",
      "from collections import Counter\n",
      "\n",
      "connection = pymongo.Connection('localhost',27017)\n",
      "db = connection.warskifu\n",
      "col = db.kifu"
     ],
     "language": "python",
     "metadata": {},
     "outputs": [],
     "prompt_number": 59
    },
    {
     "cell_type": "markdown",
     "metadata": {},
     "source": [
      "MongoDB\u306b\u306f\u4e8b\u524d\u306b\u300c\u7b2c1\u56de\u5c06\u68cb\u30a6\u30a9\u30fc\u30ba\u8056\u5e1d\u6226\u300d\u3067100\u4f4d\u4ee5\u5185\u306b\u5165\u3063\u305f\u30d7\u30ec\u30fc\u30e4\u30fc\u306e\u68cb\u8b5c\u3092(\u304a\u305d\u3089\u304f3\u9031\u9593\u5206)\u53d6\u308a\u8fbc\u3093\u3067\u3042\u308b\uff0e\u60c5\u5831\u306e\u53d6\u5f97\u306f\u30a4\u30d9\u30f3\u30c8\u304c\u7d42\u308f\u3063\u3066\u304b\u3089\u6570\u6642\u9593\u5f8c\u3067\u3042\u308b\uff0e\n",
      "\n",
      "[\u5c06\u68cb\u30a6\u30a9\u30fc\u30ba - \u7b2c1\u56de\u5c06\u68cb\u30a6\u30a9\u30fc\u30ba\u8056\u5e1d\u6226\u30e9\u30f3\u30ad\u30f3\u30b0](http://shogiwars.heroz.jp/events/seitei)\n",
      "\n",
      "\u3068\u308a\u3042\u3048\u305a\u5bfe\u5c40\u6570\u306e\u30e9\u30f3\u30ad\u30f3\u30b0\u3092\u51fa\u3057\u3066\u307f\u308b"
     ]
    },
    {
     "cell_type": "code",
     "collapsed": false,
     "input": [
      "results = []\n",
      "for data in col.find():\n",
      "    results.append(data['user0'])\n",
      "    results.append(data['user1'])\n",
      "\n",
      "counter = Counter(results)\n",
      "id_list = []\n",
      "for _id, count in counter.most_common():\n",
      "    if count > 100:\n",
      "        print _id, count"
     ],
     "language": "python",
     "metadata": {},
     "outputs": [
      {
       "output_type": "stream",
       "stream": "stdout",
       "text": [
        "1_tsutsukana 260\n",
        "miya_with_r 112\n",
        "kuropete 107\n",
        "kumanbou 105\n",
        "zomzom082 103\n",
        "Aokijikuzan 103\n",
        "pagagm 102\n"
       ]
      }
     ],
     "prompt_number": 103
    },
    {
     "cell_type": "code",
     "collapsed": false,
     "input": [
      "%matplotlib inline\n",
      "import matplotlib.pyplot as plt\n",
      "\n",
      "dates = [d['datetime'] for d in col.find()]\n",
      "hist = plt.hist([t.hour for t in dates], bins=range(25))\n",
      "plt.xlim(0,24)\n",
      "plt.show()"
     ],
     "language": "python",
     "metadata": {},
     "outputs": [
      {
       "metadata": {},
       "output_type": "display_data",
       "png": "[encoded data removed]",
       "text": [
        "<matplotlib.figure.Figure at 0x7f012567e250>"
       ]
      }
     ],
     "prompt_number": 106
    },
    {
     "cell_type": "markdown",
     "metadata": {},
     "source": [
      "\u307e\u305a19\u6642\u304b\u308923\u6642\u307e\u3067\u304c\u7279\u306b\u76db\u308a\u4e0a\u304c\u3063\u3066\u3044\u308b\u70b9\u304b\u3089\u3057\u3066\uff0c\u30d7\u30ec\u30fc\u30e4\u30fc\u306b\u306f\u666e\u901a\u306e\u793e\u4f1a\u4eba/\u5b66\u751f\u304c\u591a\u3044\u306e\u304b\u306a\u3068\u3044\u3046\u5370\u8c61\u3092\u53d7\u3051\u308b\uff0e\n",
      "\n",
      "\u3042\u306811\u6642\u306e\u4eba\u6570\u304c12\u6642\u3088\u308a\u591a\u3044\u306e\u306f\u4e0d\u601d\u8b70\u3060\uff0e\u5927\u62b5\u306e\u5834\u5408\u663c\u4f11\u307f\u306f12~13\u6642\u306a\u306e\u3067\u5bfe\u5c40\u306f12\u6642\u306b\u96c6\u4e2d\u3057\u305d\u3046\u306a\u6c17\u304c\u3059\u308b\u306e\u3060\u304c\u2026"
     ]
    },
    {
     "cell_type": "code",
     "collapsed": false,
     "input": [],
     "language": "python",
     "metadata": {},
     "outputs": []
    }
   ],
   "metadata": {}
  }
 ]
}