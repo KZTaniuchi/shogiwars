{
 "metadata": {
  "name": ""
 },
 "nbformat": 3,
 "nbformat_minor": 0,
 "worksheets": [
  {
   "cells": [
    {
     "cell_type": "code",
     "collapsed": false,
     "input": [
      "import pymongo\n",
      "from collections import Counter\n",
      "\n",
      "connection = pymongo.Connection('localhost',27017)\n",
      "db = connection.warskifu\n",
      "col = db.kifu"
     ],
     "language": "python",
     "metadata": {},
     "outputs": [],
     "prompt_number": 2
    },
    {
     "cell_type": "markdown",
     "metadata": {},
     "source": [
      "\u3068\u308a\u3042\u3048\u305a `1_tsutsukana` \u3068\u591a\u304f\u5bfe\u5c40\u3057\u3066\u3044\u308b\u4eba\u30e9\u30f3\u30ad\u30f3\u30b0\u3092\u51fa\u3057\u3066\u307f\u308b"
     ]
    },
    {
     "cell_type": "code",
     "collapsed": false,
     "input": [
      "results = []\n",
      "for data in col.find():\n",
      "    results.append(data['user0'])\n",
      "    results.append(data['user1'])\n",
      "\n",
      "counter = Counter(results)\n",
      "id_list = []\n",
      "for _id, count in counter.most_common():\n",
      "    if count > 2:\n",
      "        print _id, count"
     ],
     "language": "python",
     "metadata": {},
     "outputs": [
      {
       "output_type": "stream",
       "stream": "stdout",
       "text": [
        "1_tsutsukana 92\n",
        "piyotan0303 23\n",
        "cybertrance 9\n",
        "24nokamiRenana 8\n",
        "jun419 8\n",
        "akari2010 6\n",
        "kuropete 5\n",
        "H_Kirara 5\n",
        "paolon 3\n"
       ]
      }
     ],
     "prompt_number": 48
    },
    {
     "cell_type": "code",
     "collapsed": false,
     "input": [
      "%matplotlib inline\n",
      "import matplotlib.pyplot as plt\n",
      "\n",
      "dates = [d['datetime'] for d in col.find()]\n",
      "hist = plt.hist([t.hour for t in dates], bins=range(25))\n",
      "plt.xlim(0,24)\n",
      "plt.show()"
     ],
     "language": "python",
     "metadata": {},
     "outputs": [
      {
       "metadata": {},
       "output_type": "display_data",
       "png": "[encoded data removed]",
       "text": [
        "<matplotlib.figure.Figure at 0x7f0125889390>"
       ]
      }
     ],
     "prompt_number": 49
    },
    {
     "cell_type": "markdown",
     "metadata": {},
     "source": [
      "2,3\u6642\u304c0\u4ef6\u306a\u306e\u306f\u5358\u7d14\u306b\u4eba\u304c\u5c11\u306a\u3044\uff0c\u3042\u308b\u3044\u306f\u30e1\u30f3\u30c6\u30ca\u30f3\u30b9\u306b\u3088\u308b\u3082\u306e\u3060\u308d\u3046\n",
      "\n",
      "22\u6642\u306e\u5bfe\u5c40\u6570\u3060\u3051\u98db\u3073\u629c\u3051\u3066\u3044\u308b\u306e\u306f\u306a\u305c\u3060\u308d\u3046"
     ]
    },
    {
     "cell_type": "code",
     "collapsed": false,
     "input": [
      "results_u = list(set(results))\n",
      "results_u"
     ],
     "language": "python",
     "metadata": {},
     "outputs": [
      {
       "metadata": {},
       "output_type": "pyout",
       "prompt_number": 54,
       "text": [
        "[u'akari2010',\n",
        " u'24nokamiRenana',\n",
        " u'hukiregui',\n",
        " u'ikinayabykoyabu',\n",
        " u'jun419',\n",
        " u'kimikimsosa',\n",
        " u'tabito3',\n",
        " u'papapa11',\n",
        " u'piyotan0303',\n",
        " u'paolon',\n",
        " u't_da',\n",
        " u'tommas',\n",
        " u'rensukeT',\n",
        " u'LongwangTaiwan',\n",
        " u'measIes',\n",
        " u'kuropete',\n",
        " u'miya_with_r',\n",
        " u'motomtom',\n",
        " u'Moc_con',\n",
        " u'H_Kirara',\n",
        " u'cybertrance',\n",
        " u'sosa777',\n",
        " u'bumpofchicken2',\n",
        " u'supercar',\n",
        " u'1_tsutsukana',\n",
        " u'nagamines',\n",
        " u'KanaIkeda_nyaaa']"
       ]
      }
     ],
     "prompt_number": 54
    },
    {
     "cell_type": "code",
     "collapsed": false,
     "input": [
      "title = 'seitei'\n",
      "page = 0\n",
      "\n",
      "#page += 25\n",
      "url = ''.join(['http://shogiwars.heroz.jp/events/', title, '?start=', str(page)])\n",
      "html = get_html(url)\n",
      "\n",
      "re.findall(r'\\/users\\/(\\w+)',html)\n"
     ],
     "language": "python",
     "metadata": {},
     "outputs": [
      {
       "ename": "NameError",
       "evalue": "name 'get_html' is not defined",
       "output_type": "pyerr",
       "traceback": [
        "\u001b[0;31m---------------------------------------------------------------------------\u001b[0m\n\u001b[0;31mNameError\u001b[0m                                 Traceback (most recent call last)",
        "\u001b[0;32m<ipython-input-58-d5c4fd768cc8>\u001b[0m in \u001b[0;36m<module>\u001b[0;34m()\u001b[0m\n\u001b[1;32m      4\u001b[0m \u001b[0;31m#page += 25\u001b[0m\u001b[0;34m\u001b[0m\u001b[0;34m\u001b[0m\u001b[0m\n\u001b[1;32m      5\u001b[0m \u001b[0murl\u001b[0m \u001b[0;34m=\u001b[0m \u001b[0;34m''\u001b[0m\u001b[0;34m.\u001b[0m\u001b[0mjoin\u001b[0m\u001b[0;34m(\u001b[0m\u001b[0;34m[\u001b[0m\u001b[0;34m'http://shogiwars.heroz.jp/events/'\u001b[0m\u001b[0;34m,\u001b[0m \u001b[0mtitle\u001b[0m\u001b[0;34m,\u001b[0m \u001b[0;34m'?start='\u001b[0m\u001b[0;34m,\u001b[0m \u001b[0mstr\u001b[0m\u001b[0;34m(\u001b[0m\u001b[0mpage\u001b[0m\u001b[0;34m)\u001b[0m\u001b[0;34m]\u001b[0m\u001b[0;34m)\u001b[0m\u001b[0;34m\u001b[0m\u001b[0m\n\u001b[0;32m----> 6\u001b[0;31m \u001b[0mhtml\u001b[0m \u001b[0;34m=\u001b[0m \u001b[0mget_html\u001b[0m\u001b[0;34m(\u001b[0m\u001b[0murl\u001b[0m\u001b[0;34m)\u001b[0m\u001b[0;34m\u001b[0m\u001b[0m\n\u001b[0m",
        "\u001b[0;31mNameError\u001b[0m: name 'get_html' is not defined"
       ]
      }
     ],
     "prompt_number": 58
    }
   ],
   "metadata": {}
  }
 ]
}